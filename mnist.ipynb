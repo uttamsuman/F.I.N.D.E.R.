{
 "cells": [
  {
   "cell_type": "markdown",
   "id": "d12a7a08-9ff0-4ca3-b240-a4433958c312",
   "metadata": {},
   "source": [
    "## imports"
   ]
  },
  {
   "cell_type": "code",
   "execution_count": 1,
   "id": "f9cb5650-b5dd-4d3c-a45e-d5c19e8898de",
   "metadata": {},
   "outputs": [
    {
     "name": "stdout",
     "output_type": "stream",
     "text": [
      "Using cuda device for FINDER\n"
     ]
    }
   ],
   "source": [
    "import torch\n",
    "import torchvision\n",
    "import torchvision.transforms as transforms\n",
    "import torch.nn as nn\n",
    "import torch.optim as optim\n",
    "import math\n",
    "import torch.nn.functional as F\n",
    "import pickle\n",
    "import time\n",
    "import matplotlib.pyplot as plt\n",
    "import FINDER_core"
   ]
  },
  {
   "cell_type": "code",
   "execution_count": 2,
   "id": "23a8601b-09ae-45f7-a811-51c8d892e009",
   "metadata": {},
   "outputs": [
    {
     "name": "stdout",
     "output_type": "stream",
     "text": [
      "Using cuda device\n"
     ]
    }
   ],
   "source": [
    "device = (\"cuda\" if torch.cuda.is_available() else \"cpu\")\n",
    "print(f\"Using {device} device\")"
   ]
  },
  {
   "cell_type": "markdown",
   "id": "58634d2c-90b9-45d4-a078-da3d96b6dbdc",
   "metadata": {},
   "source": [
    "## dataset"
   ]
  },
  {
   "cell_type": "code",
   "execution_count": 3,
   "id": "db4859b2-b51f-4c25-b949-64d91782cf0e",
   "metadata": {},
   "outputs": [],
   "source": [
    "# Define transformation for input data\n",
    "transform = transforms.Compose([\n",
    "    transforms.ToTensor(),  # Convert PIL image to tensor\n",
    "    transforms.Normalize((0.1307,), (0.3081,))  # Normalize the image data\n",
    "])"
   ]
  },
  {
   "cell_type": "code",
   "execution_count": 4,
   "id": "7a6cb6af-fce9-4cdc-ba66-cd2d68f4c120",
   "metadata": {
    "scrolled": true
   },
   "outputs": [],
   "source": [
    "# Download MNIST dataset\n",
    "train_dataset = torchvision.datasets.MNIST(root='../data', train=True, transform=transform, download=True)\n",
    "test_dataset = torchvision.datasets.MNIST(root='../data', train=False, transform=transform, download=True)"
   ]
  },
  {
   "cell_type": "code",
   "execution_count": 5,
   "id": "c1e1ded7-3c84-4b9e-8fe2-00d441e8953a",
   "metadata": {},
   "outputs": [],
   "source": [
    "# Define data loaders\n",
    "batch_size = 128 #int(len(train_dataset) / 1000)\n",
    "\n",
    "# Define data loaders with full batch size\n",
    "train_loader = torch.utils.data.DataLoader(train_dataset, batch_size=batch_size, shuffle=True)\n",
    "test_loader = torch.utils.data.DataLoader(test_dataset, batch_size=batch_size, shuffle=False)"
   ]
  },
  {
   "cell_type": "markdown",
   "id": "f557d3ff-b765-40ed-8d65-2999565770b3",
   "metadata": {},
   "source": [
    "## FNN class"
   ]
  },
  {
   "cell_type": "code",
   "execution_count": 6,
   "id": "32ca383b-7484-4ffa-b541-a7474cd12a78",
   "metadata": {},
   "outputs": [],
   "source": [
    "class FNN(nn.Module):\n",
    "    def __init__(self):\n",
    "        super(FNN, self).__init__()\n",
    "        self.fc1 = nn.Linear(28 * 28, 1000)\n",
    "        self.fc2 = nn.Linear(1000, 1000)\n",
    "        self.fc3 = nn.Linear(1000, 10)\n",
    "\n",
    "    def forward(self, x):\n",
    "        x = x.view(-1, 28 * 28)  # Flatten the input image\n",
    "        x = torch.relu(self.fc1(x))\n",
    "        x = torch.relu(self.fc2(x))\n",
    "        x = self.fc3(x)\n",
    "        return x\n",
    "\n",
    "    def loss_grad(self, param, inputs, labels, no_grad = False):\n",
    "        inputs = inputs.to(device)\n",
    "        labels = labels.to(device)\n",
    "        '''\n",
    "        zeroeing gradients\n",
    "        '''\n",
    "        torch.nn.utils.vector_to_parameters(param, self.parameters())\n",
    "        self.zero_grad()\n",
    "        \n",
    "        '''\n",
    "        loss and grads\n",
    "        '''\n",
    "        outputs = model(inputs)\n",
    "\n",
    "        if no_grad == False:\n",
    "            ls = criterion(outputs, labels)\n",
    "            ls.backward()\n",
    "            grads = torch.cat([param.grad.data.view(-1) for param in self.parameters()], dim=0)\n",
    "            return ls.item(), grads \n",
    "            \n",
    "        else:\n",
    "            with torch.no_grad():\n",
    "                ls = criterion(outputs, labels)\n",
    "                return ls.item()"
   ]
  },
  {
   "cell_type": "markdown",
   "id": "bd456f3e-ff9c-438c-9ab5-f5e227355105",
   "metadata": {},
   "source": [
    "## create model and loss criteria"
   ]
  },
  {
   "cell_type": "code",
   "execution_count": 7,
   "id": "a839d7af-e231-4773-b7ff-ab6beafbad95",
   "metadata": {},
   "outputs": [
    {
     "name": "stdout",
     "output_type": "stream",
     "text": [
      "1796010 dimensional problem\n"
     ]
    }
   ],
   "source": [
    "model = FNN().to(device)\n",
    "start = torch.nn.utils.parameters_to_vector(model.parameters()).detach().clone()\n",
    "criterion = nn.CrossEntropyLoss()\n",
    "print(len(start), \"dimensional problem\")"
   ]
  },
  {
   "cell_type": "markdown",
   "id": "d692931c-47a9-42d0-b3a8-94becb187275",
   "metadata": {},
   "source": [
    "## training loop with FINDER"
   ]
  },
  {
   "cell_type": "code",
   "execution_count": 8,
   "id": "e52f6943-2858-4a8f-bd79-aa2bd6226a09",
   "metadata": {},
   "outputs": [],
   "source": [
    "torch.nn.utils.vector_to_parameters(start.clone(), model.parameters())"
   ]
  },
  {
   "cell_type": "code",
   "execution_count": 9,
   "id": "d74dcb40-4978-40c1-8513-89ba39707a4e",
   "metadata": {},
   "outputs": [],
   "source": [
    "optimizer = FINDER_core.FINDER(model, clamps = [1e-6, 1e-6], θ = 0.0, γ = 0.1, p = 5)"
   ]
  },
  {
   "cell_type": "code",
   "execution_count": 10,
   "id": "8c2fa384-257e-4fd6-9ecb-7c27e09c3464",
   "metadata": {
    "scrolled": true
   },
   "outputs": [
    {
     "name": "stdout",
     "output_type": "stream",
     "text": [
      "Epoch [1] loss: 0.132173667\n",
      "Epoch [2] loss: 0.012845277\n",
      "Epoch [3] loss: 0.006121032\n",
      "Epoch [4] loss: 0.003669659\n",
      "Epoch [5] loss: 0.002428834\n",
      "Epoch [6] loss: 0.001520552\n",
      "Epoch [7] loss: 0.001001258\n",
      "Epoch [8] loss: 0.000566406\n",
      "Epoch [9] loss: 0.000282317\n",
      "Epoch [10] loss: 0.000170571\n",
      "Epoch [11] loss: 0.000115278\n",
      "Epoch [12] loss: 0.000097655\n",
      "Epoch [13] loss: 0.000086487\n",
      "Epoch [14] loss: 0.000079695\n",
      "Epoch [15] loss: 0.000074722\n",
      "Epoch [16] loss: 0.000071050\n",
      "Epoch [17] loss: 0.000068252\n",
      "Epoch [18] loss: 0.000066073\n",
      "Epoch [19] loss: 0.000064171\n",
      "Epoch [20] loss: 0.000062674\n",
      "finished training in 536.9005250930786 seconds\n"
     ]
    }
   ],
   "source": [
    "tic = time.time()\n",
    "fX_mnist_FINDER = []\n",
    "for epoch in range(20):  # loop over the dataset multiple times\n",
    "    model.train()\n",
    "    running_loss = 0.0\n",
    "    for i, data in enumerate(train_loader, 0):\n",
    "        inputs, labels = data\n",
    "        min_fitness = optimizer.step(inputs, labels)\n",
    "\n",
    "        running_loss += min_fitness * inputs.size(0)\n",
    "    running_loss /= len(train_dataset)\n",
    "    fX_mnist_FINDER.append(running_loss)\n",
    "    print('Epoch [%d] loss: %.9f' %\n",
    "          (epoch + 1, running_loss))\n",
    "toc = time.time()\n",
    "runtime_FINDER = round(toc-tic)\n",
    "print(\"finished training in\", toc - tic, \"seconds\")"
   ]
  },
  {
   "cell_type": "markdown",
   "id": "b72086d8-8c60-4780-9349-d0e1e3498856",
   "metadata": {},
   "source": [
    "## testing accuracy"
   ]
  },
  {
   "cell_type": "code",
   "execution_count": 11,
   "id": "0af276c6-bf1e-4a76-86b7-0f1894f9fbbe",
   "metadata": {},
   "outputs": [
    {
     "name": "stdout",
     "output_type": "stream",
     "text": [
      "Accuracy on test set: 98.72999999999999 %\n"
     ]
    }
   ],
   "source": [
    "model.eval()  # Set the model to evaluation mode\n",
    "correct = 0\n",
    "total = 0\n",
    "with torch.no_grad():\n",
    "    for inputs, labels in test_loader:\n",
    "        inputs = inputs.to(device)\n",
    "        labels = labels.to(device)\n",
    "        outputs = model(inputs)\n",
    "        _, predicted = torch.max(outputs, 1)\n",
    "        total += labels.size(0)\n",
    "        correct += (predicted == labels).sum().item()\n",
    "\n",
    "print(f\"Accuracy on test set: {correct / total * 100} %\")"
   ]
  },
  {
   "cell_type": "code",
   "execution_count": 12,
   "id": "342a5fc0-09bf-4a2b-bd2b-bbd417f9b0c6",
   "metadata": {},
   "outputs": [
    {
     "name": "stdout",
     "output_type": "stream",
     "text": [
      "Accuracy on train set: 100.0 %\n"
     ]
    }
   ],
   "source": [
    "model.eval()  # Set the model to evaluation mode\n",
    "correct = 0\n",
    "total = 0\n",
    "with torch.no_grad():\n",
    "    for inputs, labels in train_loader:\n",
    "        inputs = inputs.to(device)\n",
    "        labels = labels.to(device)\n",
    "        outputs = model(inputs)\n",
    "        _, predicted = torch.max(outputs, 1)\n",
    "        total += labels.size(0)\n",
    "        correct += (predicted == labels).sum().item()\n",
    "\n",
    "print(f\"Accuracy on train set: {correct / total * 100} %\")"
   ]
  },
  {
   "cell_type": "markdown",
   "id": "d8227264-8f75-4700-a524-30b860a851f8",
   "metadata": {},
   "source": [
    "# train with Adam"
   ]
  },
  {
   "cell_type": "code",
   "execution_count": 13,
   "id": "d8efb8d9-3820-499e-b602-948fa4aee602",
   "metadata": {},
   "outputs": [],
   "source": [
    "# model_adam = FNN().to(device)\n",
    "torch.nn.utils.vector_to_parameters(start.clone(), model.parameters()) #to set same starting point for Adam"
   ]
  },
  {
   "cell_type": "code",
   "execution_count": 14,
   "id": "7f0d0c60-d0df-473d-b6a1-b32d5022bebe",
   "metadata": {
    "scrolled": true
   },
   "outputs": [
    {
     "name": "stdout",
     "output_type": "stream",
     "text": [
      "Epoch [1] loss: 0.197447526\n",
      "Epoch [2] loss: 0.081334323\n",
      "Epoch [3] loss: 0.056221344\n",
      "Epoch [4] loss: 0.042754750\n",
      "Epoch [5] loss: 0.036230689\n",
      "Epoch [6] loss: 0.031145114\n",
      "Epoch [7] loss: 0.024295093\n",
      "Epoch [8] loss: 0.025702028\n",
      "Epoch [9] loss: 0.023368260\n",
      "Epoch [10] loss: 0.018622641\n",
      "Epoch [11] loss: 0.021545665\n",
      "Epoch [12] loss: 0.013329724\n",
      "Epoch [13] loss: 0.020377376\n",
      "Epoch [14] loss: 0.014456754\n",
      "Epoch [15] loss: 0.012884311\n",
      "Epoch [16] loss: 0.011442860\n",
      "Epoch [17] loss: 0.015954646\n",
      "Epoch [18] loss: 0.013474974\n",
      "Epoch [19] loss: 0.012554698\n",
      "Epoch [20] loss: 0.012922276\n",
      "Epoch [21] loss: 0.008432657\n",
      "Epoch [22] loss: 0.011073029\n",
      "Epoch [23] loss: 0.015181306\n",
      "Epoch [24] loss: 0.011798002\n",
      "Epoch [25] loss: 0.008597059\n",
      "Epoch [26] loss: 0.007484462\n",
      "Epoch [27] loss: 0.012363882\n",
      "Epoch [28] loss: 0.010474702\n",
      "Epoch [29] loss: 0.011577270\n",
      "Epoch [30] loss: 0.013251096\n",
      "Epoch [31] loss: 0.006573462\n",
      "Epoch [32] loss: 0.011462880\n",
      "Epoch [33] loss: 0.009856308\n",
      "Epoch [34] loss: 0.014875112\n",
      "Epoch [35] loss: 0.010271525\n",
      "Epoch [36] loss: 0.006106632\n",
      "Epoch [37] loss: 0.008951515\n",
      "Epoch [38] loss: 0.009270659\n",
      "Epoch [39] loss: 0.005474788\n",
      "Epoch [40] loss: 0.006665182\n",
      "Epoch [41] loss: 0.008092794\n",
      "Epoch [42] loss: 0.017563672\n",
      "Epoch [43] loss: 0.008215953\n",
      "Epoch [44] loss: 0.008597808\n",
      "Epoch [45] loss: 0.008553963\n",
      "Epoch [46] loss: 0.010383625\n",
      "Epoch [47] loss: 0.011990433\n",
      "Epoch [48] loss: 0.009633465\n",
      "Epoch [49] loss: 0.005458857\n",
      "Epoch [50] loss: 0.006832181\n",
      "Epoch [51] loss: 0.012186038\n",
      "Epoch [52] loss: 0.002938747\n",
      "Epoch [53] loss: 0.010696207\n",
      "Epoch [54] loss: 0.009770714\n",
      "Epoch [55] loss: 0.011495521\n",
      "Epoch [56] loss: 0.007275848\n",
      "Epoch [57] loss: 0.003617741\n",
      "Epoch [58] loss: 0.006561914\n",
      "Epoch [59] loss: 0.014130622\n",
      "Epoch [60] loss: 0.008284032\n",
      "Epoch [61] loss: 0.011641550\n",
      "Epoch [62] loss: 0.008624499\n",
      "Epoch [63] loss: 0.011423436\n",
      "Epoch [64] loss: 0.007611025\n",
      "Epoch [65] loss: 0.004690331\n",
      "Epoch [66] loss: 0.007574160\n",
      "Epoch [67] loss: 0.007544080\n",
      "Epoch [68] loss: 0.012121521\n",
      "Epoch [69] loss: 0.007278801\n",
      "Epoch [70] loss: 0.005713431\n",
      "Epoch [71] loss: 0.011903048\n",
      "Epoch [72] loss: 0.006881580\n",
      "Epoch [73] loss: 0.009836189\n",
      "Epoch [74] loss: 0.008572471\n",
      "Epoch [75] loss: 0.012493162\n",
      "Epoch [76] loss: 0.004030121\n",
      "Epoch [77] loss: 0.005914052\n",
      "Epoch [78] loss: 0.012239673\n",
      "Epoch [79] loss: 0.013095236\n",
      "Epoch [80] loss: 0.005935863\n",
      "Epoch [81] loss: 0.011199767\n",
      "Epoch [82] loss: 0.015105959\n",
      "Epoch [83] loss: 0.009686017\n",
      "Epoch [84] loss: 0.009065895\n",
      "Epoch [85] loss: 0.005318899\n",
      "Epoch [86] loss: 0.008980088\n",
      "Epoch [87] loss: 0.009416853\n",
      "Epoch [88] loss: 0.013064787\n",
      "Epoch [89] loss: 0.006238333\n",
      "Epoch [90] loss: 0.003772312\n",
      "Epoch [91] loss: 0.005495763\n",
      "Epoch [92] loss: 0.013173908\n",
      "Epoch [93] loss: 0.010213914\n",
      "Epoch [94] loss: 0.004727489\n",
      "Epoch [95] loss: 0.001283169\n",
      "Epoch [96] loss: 0.011095520\n",
      "Epoch [97] loss: 0.008520773\n",
      "Epoch [98] loss: 0.008514538\n",
      "Epoch [99] loss: 0.012567662\n",
      "Epoch [100] loss: 0.005510013\n",
      "\n",
      " finished training with Adam in  790.2882630825043  seconds\n",
      "\n"
     ]
    }
   ],
   "source": [
    "optimizer_adam = optim.Adam(model.parameters(), lr=0.001)\n",
    "fX_adam_mnist = []\n",
    "# Train the model\n",
    "num_epochs = 100\n",
    "tic = time.time()\n",
    "for epoch in range(num_epochs):\n",
    "    model.train()  # Set the model to train mode\n",
    "    running_loss = 0.0\n",
    "    for i, (inputs, labels) in enumerate(train_loader):\n",
    "        inputs = inputs.to(device)\n",
    "        labels = labels.to(device)\n",
    "        optimizer_adam.zero_grad()  # Zero the parameter gradients\n",
    "        outputs = model(inputs)  # Forward pass\n",
    "        loss = criterion(outputs, labels)  # Compute the loss\n",
    "        loss.backward()  # Backward pass\n",
    "        optimizer_adam.step()  # Optimize\n",
    "        running_loss += loss.item() * inputs.size(0)\n",
    "    print('Epoch [%d] loss: %.9f' %\n",
    "      (epoch + 1, running_loss/len(train_dataset)))\n",
    "\n",
    "    fX_adam_mnist.append(running_loss/ len(train_dataset))\n",
    "toc = time.time()\n",
    "runtime_adam = round(toc - tic)\n",
    "print(\"\\n finished training with Adam in \",toc-tic,\" seconds\\n\")\n"
   ]
  },
  {
   "cell_type": "code",
   "execution_count": 15,
   "id": "3ddaf152-03b0-4207-8d29-8c569cdc5079",
   "metadata": {},
   "outputs": [
    {
     "name": "stdout",
     "output_type": "stream",
     "text": [
      "Accuracy on test set: 98.22\n",
      "Accuracy on train set: 99.92333333333333\n"
     ]
    }
   ],
   "source": [
    "# Test the model\n",
    "model.eval()  # Set the model to evaluation mode\n",
    "correct = 0\n",
    "total = 0\n",
    "with torch.no_grad():\n",
    "    for inputs, labels in test_loader:\n",
    "        inputs = inputs.to(device)\n",
    "        labels = labels.to(device)\n",
    "        outputs = model(inputs)\n",
    "        _, predicted = torch.max(outputs, 1)\n",
    "        total += labels.size(0)\n",
    "        correct += (predicted == labels).sum().item()\n",
    "\n",
    "print(f\"Accuracy on test set: {correct / total * 100}\")\n",
    "\n",
    "model.eval()  # Set the model to evaluation mode\n",
    "correct = 0\n",
    "total = 0\n",
    "with torch.no_grad():\n",
    "    for inputs, labels in train_loader:\n",
    "        inputs = inputs.to(device)\n",
    "        labels = labels.to(device)\n",
    "        outputs = model(inputs)\n",
    "        _, predicted = torch.max(outputs, 1)\n",
    "        total += labels.size(0)\n",
    "        correct += (predicted == labels).sum().item()\n",
    "\n",
    "print(f\"Accuracy on train set: {correct / total*100}\")"
   ]
  },
  {
   "cell_type": "markdown",
   "id": "8a0956d6-e3f5-4cb8-be5a-d361270133db",
   "metadata": {},
   "source": [
    "# train with LBFGS"
   ]
  },
  {
   "cell_type": "code",
   "execution_count": 20,
   "id": "c1005274-dab0-4302-a390-7a981bf0a82a",
   "metadata": {},
   "outputs": [],
   "source": [
    "# model_LBFGS = FNN().to(device)\n",
    "torch.nn.utils.vector_to_parameters(start.clone(), model.parameters()) #to set same starting point"
   ]
  },
  {
   "cell_type": "code",
   "execution_count": 21,
   "id": "8d85fef5-d893-4250-b026-3a2ff7a44c87",
   "metadata": {},
   "outputs": [],
   "source": [
    "optimizer_LBFGS = optim.LBFGS(model.parameters(), lr = 1, line_search_fn=\"strong_wolfe\")"
   ]
  },
  {
   "cell_type": "code",
   "execution_count": 22,
   "id": "330d7953-0abf-4b58-8752-328d6c031426",
   "metadata": {
    "scrolled": true
   },
   "outputs": [
    {
     "ename": "OutOfMemoryError",
     "evalue": "CUDA out of memory. Tried to allocate 20.00 MiB. GPU ",
     "output_type": "error",
     "traceback": [
      "\u001b[0;31m---------------------------------------------------------------------------\u001b[0m",
      "\u001b[0;31mOutOfMemoryError\u001b[0m                          Traceback (most recent call last)",
      "Cell \u001b[0;32mIn[22], line 19\u001b[0m\n\u001b[1;32m     16\u001b[0m         loss\u001b[38;5;241m.\u001b[39mbackward()\n\u001b[1;32m     17\u001b[0m         \u001b[38;5;28;01mreturn\u001b[39;00m loss\n\u001b[0;32m---> 19\u001b[0m     loss \u001b[38;5;241m=\u001b[39m \u001b[43moptimizer_LBFGS\u001b[49m\u001b[38;5;241;43m.\u001b[39;49m\u001b[43mstep\u001b[49m\u001b[43m(\u001b[49m\u001b[43mclosure\u001b[49m\u001b[43m)\u001b[49m  \u001b[38;5;66;03m# Compute the loss\u001b[39;00m\n\u001b[1;32m     20\u001b[0m     running_loss \u001b[38;5;241m+\u001b[39m\u001b[38;5;241m=\u001b[39m loss\u001b[38;5;241m.\u001b[39mitem() \u001b[38;5;241m*\u001b[39m inputs\u001b[38;5;241m.\u001b[39msize(\u001b[38;5;241m0\u001b[39m)\n\u001b[1;32m     21\u001b[0m \u001b[38;5;28mprint\u001b[39m(\u001b[38;5;124m'\u001b[39m\u001b[38;5;124mEpoch [\u001b[39m\u001b[38;5;132;01m%d\u001b[39;00m\u001b[38;5;124m] loss: \u001b[39m\u001b[38;5;132;01m%.10f\u001b[39;00m\u001b[38;5;124m'\u001b[39m \u001b[38;5;241m%\u001b[39m\n\u001b[1;32m     22\u001b[0m   (epoch \u001b[38;5;241m+\u001b[39m \u001b[38;5;241m1\u001b[39m, running_loss\u001b[38;5;241m/\u001b[39m\u001b[38;5;28mlen\u001b[39m(train_dataset)))\n",
      "File \u001b[0;32m~/miniforge3/envs/torch/lib/python3.12/site-packages/torch/optim/optimizer.py:391\u001b[0m, in \u001b[0;36mOptimizer.profile_hook_step.<locals>.wrapper\u001b[0;34m(*args, **kwargs)\u001b[0m\n\u001b[1;32m    386\u001b[0m         \u001b[38;5;28;01melse\u001b[39;00m:\n\u001b[1;32m    387\u001b[0m             \u001b[38;5;28;01mraise\u001b[39;00m \u001b[38;5;167;01mRuntimeError\u001b[39;00m(\n\u001b[1;32m    388\u001b[0m                 \u001b[38;5;124mf\u001b[39m\u001b[38;5;124m\"\u001b[39m\u001b[38;5;132;01m{\u001b[39;00mfunc\u001b[38;5;132;01m}\u001b[39;00m\u001b[38;5;124m must return None or a tuple of (new_args, new_kwargs), but got \u001b[39m\u001b[38;5;132;01m{\u001b[39;00mresult\u001b[38;5;132;01m}\u001b[39;00m\u001b[38;5;124m.\u001b[39m\u001b[38;5;124m\"\u001b[39m\n\u001b[1;32m    389\u001b[0m             )\n\u001b[0;32m--> 391\u001b[0m out \u001b[38;5;241m=\u001b[39m \u001b[43mfunc\u001b[49m\u001b[43m(\u001b[49m\u001b[38;5;241;43m*\u001b[39;49m\u001b[43margs\u001b[49m\u001b[43m,\u001b[49m\u001b[43m \u001b[49m\u001b[38;5;241;43m*\u001b[39;49m\u001b[38;5;241;43m*\u001b[39;49m\u001b[43mkwargs\u001b[49m\u001b[43m)\u001b[49m\n\u001b[1;32m    392\u001b[0m \u001b[38;5;28mself\u001b[39m\u001b[38;5;241m.\u001b[39m_optimizer_step_code()\n\u001b[1;32m    394\u001b[0m \u001b[38;5;66;03m# call optimizer step post hooks\u001b[39;00m\n",
      "File \u001b[0;32m~/miniforge3/envs/torch/lib/python3.12/site-packages/torch/utils/_contextlib.py:115\u001b[0m, in \u001b[0;36mcontext_decorator.<locals>.decorate_context\u001b[0;34m(*args, **kwargs)\u001b[0m\n\u001b[1;32m    112\u001b[0m \u001b[38;5;129m@functools\u001b[39m\u001b[38;5;241m.\u001b[39mwraps(func)\n\u001b[1;32m    113\u001b[0m \u001b[38;5;28;01mdef\u001b[39;00m \u001b[38;5;21mdecorate_context\u001b[39m(\u001b[38;5;241m*\u001b[39margs, \u001b[38;5;241m*\u001b[39m\u001b[38;5;241m*\u001b[39mkwargs):\n\u001b[1;32m    114\u001b[0m     \u001b[38;5;28;01mwith\u001b[39;00m ctx_factory():\n\u001b[0;32m--> 115\u001b[0m         \u001b[38;5;28;01mreturn\u001b[39;00m \u001b[43mfunc\u001b[49m\u001b[43m(\u001b[49m\u001b[38;5;241;43m*\u001b[39;49m\u001b[43margs\u001b[49m\u001b[43m,\u001b[49m\u001b[43m \u001b[49m\u001b[38;5;241;43m*\u001b[39;49m\u001b[38;5;241;43m*\u001b[39;49m\u001b[43mkwargs\u001b[49m\u001b[43m)\u001b[49m\n",
      "File \u001b[0;32m~/miniforge3/envs/torch/lib/python3.12/site-packages/torch/optim/lbfgs.py:433\u001b[0m, in \u001b[0;36mLBFGS.step\u001b[0;34m(self, closure)\u001b[0m\n\u001b[1;32m    430\u001b[0m     \u001b[38;5;28;01mdef\u001b[39;00m \u001b[38;5;21mobj_func\u001b[39m(x, t, d):\n\u001b[1;32m    431\u001b[0m         \u001b[38;5;28;01mreturn\u001b[39;00m \u001b[38;5;28mself\u001b[39m\u001b[38;5;241m.\u001b[39m_directional_evaluate(closure, x, t, d)\n\u001b[0;32m--> 433\u001b[0m     loss, flat_grad, t, ls_func_evals \u001b[38;5;241m=\u001b[39m \u001b[43m_strong_wolfe\u001b[49m\u001b[43m(\u001b[49m\n\u001b[1;32m    434\u001b[0m \u001b[43m        \u001b[49m\u001b[43mobj_func\u001b[49m\u001b[43m,\u001b[49m\u001b[43m \u001b[49m\u001b[43mx_init\u001b[49m\u001b[43m,\u001b[49m\u001b[43m \u001b[49m\u001b[43mt\u001b[49m\u001b[43m,\u001b[49m\u001b[43m \u001b[49m\u001b[43md\u001b[49m\u001b[43m,\u001b[49m\u001b[43m \u001b[49m\u001b[43mloss\u001b[49m\u001b[43m,\u001b[49m\u001b[43m \u001b[49m\u001b[43mflat_grad\u001b[49m\u001b[43m,\u001b[49m\u001b[43m \u001b[49m\u001b[43mgtd\u001b[49m\u001b[43m)\u001b[49m\n\u001b[1;32m    435\u001b[0m \u001b[38;5;28mself\u001b[39m\u001b[38;5;241m.\u001b[39m_add_grad(t, d)\n\u001b[1;32m    436\u001b[0m opt_cond \u001b[38;5;241m=\u001b[39m flat_grad\u001b[38;5;241m.\u001b[39mabs()\u001b[38;5;241m.\u001b[39mmax() \u001b[38;5;241m<\u001b[39m\u001b[38;5;241m=\u001b[39m tolerance_grad\n",
      "File \u001b[0;32m~/miniforge3/envs/torch/lib/python3.12/site-packages/torch/optim/lbfgs.py:49\u001b[0m, in \u001b[0;36m_strong_wolfe\u001b[0;34m(obj_func, x, t, d, f, g, gtd, c1, c2, tolerance_change, max_ls)\u001b[0m\n\u001b[1;32m     47\u001b[0m g \u001b[38;5;241m=\u001b[39m g\u001b[38;5;241m.\u001b[39mclone(memory_format\u001b[38;5;241m=\u001b[39mtorch\u001b[38;5;241m.\u001b[39mcontiguous_format)\n\u001b[1;32m     48\u001b[0m \u001b[38;5;66;03m# evaluate objective and gradient using initial step\u001b[39;00m\n\u001b[0;32m---> 49\u001b[0m f_new, g_new \u001b[38;5;241m=\u001b[39m \u001b[43mobj_func\u001b[49m\u001b[43m(\u001b[49m\u001b[43mx\u001b[49m\u001b[43m,\u001b[49m\u001b[43m \u001b[49m\u001b[43mt\u001b[49m\u001b[43m,\u001b[49m\u001b[43m \u001b[49m\u001b[43md\u001b[49m\u001b[43m)\u001b[49m\n\u001b[1;32m     50\u001b[0m ls_func_evals \u001b[38;5;241m=\u001b[39m \u001b[38;5;241m1\u001b[39m\n\u001b[1;32m     51\u001b[0m gtd_new \u001b[38;5;241m=\u001b[39m g_new\u001b[38;5;241m.\u001b[39mdot(d)\n",
      "File \u001b[0;32m~/miniforge3/envs/torch/lib/python3.12/site-packages/torch/optim/lbfgs.py:431\u001b[0m, in \u001b[0;36mLBFGS.step.<locals>.obj_func\u001b[0;34m(x, t, d)\u001b[0m\n\u001b[1;32m    430\u001b[0m \u001b[38;5;28;01mdef\u001b[39;00m \u001b[38;5;21mobj_func\u001b[39m(x, t, d):\n\u001b[0;32m--> 431\u001b[0m     \u001b[38;5;28;01mreturn\u001b[39;00m \u001b[38;5;28;43mself\u001b[39;49m\u001b[38;5;241;43m.\u001b[39;49m\u001b[43m_directional_evaluate\u001b[49m\u001b[43m(\u001b[49m\u001b[43mclosure\u001b[49m\u001b[43m,\u001b[49m\u001b[43m \u001b[49m\u001b[43mx\u001b[49m\u001b[43m,\u001b[49m\u001b[43m \u001b[49m\u001b[43mt\u001b[49m\u001b[43m,\u001b[49m\u001b[43m \u001b[49m\u001b[43md\u001b[49m\u001b[43m)\u001b[49m\n",
      "File \u001b[0;32m~/miniforge3/envs/torch/lib/python3.12/site-packages/torch/optim/lbfgs.py:286\u001b[0m, in \u001b[0;36mLBFGS._directional_evaluate\u001b[0;34m(self, closure, x, t, d)\u001b[0m\n\u001b[1;32m    284\u001b[0m \u001b[38;5;28mself\u001b[39m\u001b[38;5;241m.\u001b[39m_add_grad(t, d)\n\u001b[1;32m    285\u001b[0m loss \u001b[38;5;241m=\u001b[39m \u001b[38;5;28mfloat\u001b[39m(closure())\n\u001b[0;32m--> 286\u001b[0m flat_grad \u001b[38;5;241m=\u001b[39m \u001b[38;5;28;43mself\u001b[39;49m\u001b[38;5;241;43m.\u001b[39;49m\u001b[43m_gather_flat_grad\u001b[49m\u001b[43m(\u001b[49m\u001b[43m)\u001b[49m\n\u001b[1;32m    287\u001b[0m \u001b[38;5;28mself\u001b[39m\u001b[38;5;241m.\u001b[39m_set_param(x)\n\u001b[1;32m    288\u001b[0m \u001b[38;5;28;01mreturn\u001b[39;00m loss, flat_grad\n",
      "File \u001b[0;32m~/miniforge3/envs/torch/lib/python3.12/site-packages/torch/optim/lbfgs.py:263\u001b[0m, in \u001b[0;36mLBFGS._gather_flat_grad\u001b[0;34m(self)\u001b[0m\n\u001b[1;32m    261\u001b[0m         view \u001b[38;5;241m=\u001b[39m torch\u001b[38;5;241m.\u001b[39mview_as_real(view)\u001b[38;5;241m.\u001b[39mview(\u001b[38;5;241m-\u001b[39m\u001b[38;5;241m1\u001b[39m)\n\u001b[1;32m    262\u001b[0m     views\u001b[38;5;241m.\u001b[39mappend(view)\n\u001b[0;32m--> 263\u001b[0m \u001b[38;5;28;01mreturn\u001b[39;00m \u001b[43mtorch\u001b[49m\u001b[38;5;241;43m.\u001b[39;49m\u001b[43mcat\u001b[49m\u001b[43m(\u001b[49m\u001b[43mviews\u001b[49m\u001b[43m,\u001b[49m\u001b[43m \u001b[49m\u001b[38;5;241;43m0\u001b[39;49m\u001b[43m)\u001b[49m\n",
      "\u001b[0;31mOutOfMemoryError\u001b[0m: CUDA out of memory. Tried to allocate 20.00 MiB. GPU "
     ]
    }
   ],
   "source": [
    "fX_LBFGS_mnist = []\n",
    "# Train the model\n",
    "num_epochs = 10\n",
    "tic = time.time()\n",
    "for epoch in range(num_epochs):\n",
    "    model.train()  # Set the model to train mode\n",
    "    running_loss = 0.0\n",
    "    for i, (inputs, labels) in enumerate(train_loader):\n",
    "        inputs = inputs.to(device)\n",
    "        labels = labels.to(device)\n",
    "        \n",
    "        def closure():\n",
    "            model.zero_grad()\n",
    "            outputs = model(inputs)\n",
    "            loss = criterion(outputs, labels)\n",
    "            loss.backward()\n",
    "            return loss\n",
    "        \n",
    "        loss = optimizer_LBFGS.step(closure)  # Compute the loss\n",
    "        running_loss += loss.item() * inputs.size(0)\n",
    "    print('Epoch [%d] loss: %.10f' %\n",
    "      (epoch + 1, running_loss/len(train_dataset)))\n",
    "\n",
    "    fX_LBFGS_mnist.append(running_loss/ len(train_dataset))\n",
    "toc = time.time()\n",
    "runtime_lbfgs = round(toc - tic)\n",
    "print(\"\\n finished training with LBFGS in \",toc-tic,\" seconds\\n\")"
   ]
  },
  {
   "cell_type": "markdown",
   "id": "ce074052-a4f9-43d3-84ef-81956ebc72ad",
   "metadata": {},
   "source": [
    "# plotting"
   ]
  },
  {
   "cell_type": "code",
   "execution_count": 16,
   "id": "7bb57bab-784d-47a8-8273-27ffa6efe4a1",
   "metadata": {},
   "outputs": [
    {
     "data": {
      "image/png": "[encoded data removed]",
      "text/plain": [
       "<Figure size 1000x600 with 1 Axes>"
      ]
     },
     "metadata": {},
     "output_type": "display_data"
    }
   ],
   "source": [
    "# Set figure size\n",
    "fig = plt.gcf()\n",
    "fig.set_size_inches(10, 6)  # width, height\n",
    "ax = plt.axes()\n",
    "\n",
    "plt.plot(fX_mnist_FINDER, 'rs-', markevery= 5, label=f\"FINDER ({runtime_FINDER} s)\")\n",
    "plt.plot(fX_adam_mnist, 'bo-', markevery= 10, label=f\"Adam ({runtime_adam} s)\")\n",
    "# plt.plot(fx_LBFGS, 'gD-', markevery= 20, label=f\"L-BFGS ({runtime_lbfgs} s)\")\n",
    "\n",
    "plt.ylabel('loss', fontsize=16)\n",
    "plt.xlabel('Number of Epochs', fontsize=16)\n",
    "plt.legend(loc=\"best\", ncol=3, fontsize=14)\n",
    "plt.yscale('log')\n",
    "plt.grid()\n",
    "plt.tick_params(axis='both', labelsize=14)\n",
    "plt.show()"
   ]
  },
  {
   "cell_type": "markdown",
   "id": "8a07b678-1951-4553-aed2-6fe42031243a",
   "metadata": {},
   "source": [
    "# save data"
   ]
  },
  {
   "cell_type": "code",
   "execution_count": 18,
   "id": "530ab734-7d24-4d11-88a6-ea46235a70ea",
   "metadata": {},
   "outputs": [],
   "source": [
    "torch.save(torch.tensor(fX_mnist_FINDER), f'../PlotData/mnist/mnist_FINDER_N{start.shape[0]}_{runtime_FINDER}s.pt')"
   ]
  },
  {
   "cell_type": "code",
   "execution_count": 19,
   "id": "1419b6c5-faee-4884-99ea-771c24fdd3f6",
   "metadata": {},
   "outputs": [],
   "source": [
    "torch.save(torch.tensor(fX_adam_mnist), f'../PlotData/mnist/mnist_adam_N{start.shape[0]}_{runtime_adam}s.pt')"
   ]
  }
 ],
 "metadata": {
  "kernelspec": {
   "display_name": "Python 3 (ipykernel)",
   "language": "python",
   "name": "python3"
  },
  "language_info": {
   "codemirror_mode": {
    "name": "ipython",
    "version": 3
   },
   "file_extension": ".py",
   "mimetype": "text/x-python",
   "name": "python",
   "nbconvert_exporter": "python",
   "pygments_lexer": "ipython3",
   "version": "3.12.3"
  }
 },
 "nbformat": 4,
 "nbformat_minor": 5
}
